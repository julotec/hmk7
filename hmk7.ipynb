{
  "nbformat": 4,
  "nbformat_minor": 0,
  "metadata": {
    "colab": {
      "provenance": []
    },
    "kernelspec": {
      "name": "python3",
      "display_name": "Python 3"
    },
    "language_info": {
      "name": "python"
    }
  },
  "cells": [
    {
      "cell_type": "code",
      "execution_count": 1,
      "metadata": {
        "colab": {
          "base_uri": "https://localhost:8080/"
        },
        "id": "otinbHHlHzb1",
        "outputId": "e794cb35-18b0-46ba-8223-2e044c288054"
      },
      "outputs": [
        {
          "output_type": "stream",
          "name": "stdout",
          "text": [
            "Collecting scikit-surprise\n",
            "  Downloading scikit_surprise-1.1.4.tar.gz (154 kB)\n",
            "\u001b[?25l     \u001b[90m━━━━━━━━━━━━━━━━━━━━━━━━━━━━━━━━━━━━━━━━\u001b[0m \u001b[32m0.0/154.4 kB\u001b[0m \u001b[31m?\u001b[0m eta \u001b[36m-:--:--\u001b[0m\r\u001b[2K     \u001b[91m━━━━━━━━━━━━━━━━━━━━━━━\u001b[0m\u001b[91m╸\u001b[0m\u001b[90m━━━━━━━━━━━━━━━━\u001b[0m \u001b[32m92.2/154.4 kB\u001b[0m \u001b[31m2.5 MB/s\u001b[0m eta \u001b[36m0:00:01\u001b[0m\r\u001b[2K     \u001b[90m━━━━━━━━━━━━━━━━━━━━━━━━━━━━━━━━━━━━━━━━\u001b[0m \u001b[32m154.4/154.4 kB\u001b[0m \u001b[31m2.9 MB/s\u001b[0m eta \u001b[36m0:00:00\u001b[0m\n",
            "\u001b[?25h  Installing build dependencies ... \u001b[?25l\u001b[?25hdone\n",
            "  Getting requirements to build wheel ... \u001b[?25l\u001b[?25hdone\n",
            "  Preparing metadata (pyproject.toml) ... \u001b[?25l\u001b[?25hdone\n",
            "Requirement already satisfied: joblib>=1.2.0 in /usr/local/lib/python3.10/dist-packages (from scikit-surprise) (1.4.2)\n",
            "Requirement already satisfied: numpy>=1.19.5 in /usr/local/lib/python3.10/dist-packages (from scikit-surprise) (1.25.2)\n",
            "Requirement already satisfied: scipy>=1.6.0 in /usr/local/lib/python3.10/dist-packages (from scikit-surprise) (1.11.4)\n",
            "Building wheels for collected packages: scikit-surprise\n",
            "  Building wheel for scikit-surprise (pyproject.toml) ... \u001b[?25l\u001b[?25hdone\n",
            "  Created wheel for scikit-surprise: filename=scikit_surprise-1.1.4-cp310-cp310-linux_x86_64.whl size=2357245 sha256=6cb45304cd1ddc187a0c4eaf48db1c83801abb2612251386e268b48544ebe9c5\n",
            "  Stored in directory: /root/.cache/pip/wheels/4b/3f/df/6acbf0a40397d9bf3ff97f582cc22fb9ce66adde75bc71fd54\n",
            "Successfully built scikit-surprise\n",
            "Installing collected packages: scikit-surprise\n",
            "Successfully installed scikit-surprise-1.1.4\n"
          ]
        }
      ],
      "source": [
        "!pip install scikit-surprise"
      ]
    },
    {
      "cell_type": "code",
      "source": [
        "from surprise import Dataset, Reader, SVD, SVDpp, NMF\n",
        "from surprise.model_selection import cross_validate, GridSearchCV\n",
        "\n",
        "data = Dataset.load_builtin('ml-100k')"
      ],
      "metadata": {
        "colab": {
          "base_uri": "https://localhost:8080/"
        },
        "id": "4xk8WZp0Inbn",
        "outputId": "a4d9ab56-8484-4801-dc68-89b21eaae058"
      },
      "execution_count": 2,
      "outputs": [
        {
          "output_type": "stream",
          "name": "stdout",
          "text": [
            "Dataset ml-100k could not be found. Do you want to download it? [Y/n] y\n",
            "Trying to download dataset from https://files.grouplens.org/datasets/movielens/ml-100k.zip...\n",
            "Done! Dataset ml-100k has been saved to /root/.surprise_data/ml-100k\n"
          ]
        }
      ]
    },
    {
      "cell_type": "code",
      "source": [
        "param_grid_svd = {\n",
        "    'n_factors': [50, 100, 150],\n",
        "    'n_epochs': [20, 30],\n",
        "    'lr_all': [0.002, 0.005],\n",
        "    'reg_all': [0.02, 0.1]\n",
        "}\n",
        "\n",
        "\n",
        "gs_svd = GridSearchCV(SVD, param_grid_svd, measures=['rmse', 'mae'], cv=5)\n",
        "\n",
        "gs_svd.fit(data)\n",
        "\n",
        "print(\"Najlepsze parametry dla SVD:\")\n",
        "print(gs_svd.best_params['rmse'])\n",
        "print(\"Najlepsze wyniki RMSE dla SVD:\")\n",
        "print(gs_svd.best_score['rmse'])\n"
      ],
      "metadata": {
        "colab": {
          "base_uri": "https://localhost:8080/"
        },
        "id": "77aioxH0I8Bt",
        "outputId": "230f8f46-6b6d-449f-bb06-05f8f327e5b8"
      },
      "execution_count": 7,
      "outputs": [
        {
          "output_type": "stream",
          "name": "stdout",
          "text": [
            "Najlepsze parametry dla SVD:\n",
            "{'n_factors': 150, 'n_epochs': 30, 'lr_all': 0.005, 'reg_all': 0.1}\n",
            "Najlepsze wyniki RMSE dla SVD:\n",
            "0.9263441804236414\n"
          ]
        }
      ]
    },
    {
      "cell_type": "code",
      "source": [
        "\n",
        "param_grid_svdpp = {\n",
        "    'n_factors': [50, 100],\n",
        "    'n_epochs': [20],\n",
        "    'lr_all': [0.002],\n",
        "    'reg_all': [0.02]\n",
        "}\n",
        "\n",
        "gs_svdpp = GridSearchCV(SVDpp, param_grid_svdpp, measures=['rmse', 'mae'], cv=3, n_jobs=-1)\n",
        "gs_svdpp.fit(data)\n",
        "\n",
        "print(\"Najlepsze parametry dla SVD++:\")\n",
        "print(gs_svdpp.best_params['rmse'])\n",
        "print(\"Najlepsze wyniki RMSE dla SVD++:\")\n",
        "print(gs_svdpp.best_score['rmse'])\n",
        "\n",
        "\n",
        "param_grid_nmf = {\n",
        "    'n_factors': [50, 100],\n",
        "    'n_epochs': [20],\n",
        "    'reg_pu': [0.06],\n",
        "    'reg_qi': [0.06]\n",
        "}\n",
        "\n",
        "gs_nmf = GridSearchCV(NMF, param_grid_nmf, measures=['rmse', 'mae'], cv=3, n_jobs=-1)\n",
        "gs_nmf.fit(data)\n",
        "\n",
        "print(\"Najlepsze parametry dla NMF:\")\n",
        "print(gs_nmf.best_params['rmse'])\n",
        "print(\"Najlepsze wyniki RMSE dla NMF:\")\n",
        "print(gs_nmf.best_score['rmse'])"
      ],
      "metadata": {
        "colab": {
          "base_uri": "https://localhost:8080/"
        },
        "id": "EUbPypecNTxx",
        "outputId": "cf654cb8-f330-40e0-aa82-a459275698db"
      },
      "execution_count": 11,
      "outputs": [
        {
          "output_type": "stream",
          "name": "stdout",
          "text": [
            "Najlepsze parametry dla SVD++:\n",
            "{'n_factors': 100, 'n_epochs': 20, 'lr_all': 0.002, 'reg_all': 0.02}\n",
            "Najlepsze wyniki RMSE dla SVD++:\n",
            "0.9451337936580333\n",
            "Najlepsze parametry dla NMF:\n",
            "{'n_factors': 50, 'n_epochs': 20, 'reg_pu': 0.06, 'reg_qi': 0.06}\n",
            "Najlepsze wyniki RMSE dla NMF:\n",
            "1.6397137442482077\n"
          ]
        }
      ]
    },
    {
      "cell_type": "code",
      "source": [],
      "metadata": {
        "id": "l7Ov9nrZRAaD"
      },
      "execution_count": null,
      "outputs": []
    }
  ]
}